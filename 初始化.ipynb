{
 "cells": [
  {
   "cell_type": "code",
   "execution_count": 1,
   "metadata": {},
   "outputs": [],
   "source": [
    "import tushare as ts\n",
    "from tqdm.notebook import tqdm\n",
    "import sqlite3\n",
    "import datetime\n",
    "import pickle\n",
    "import pandas as pd\n",
    "from junnko_backtest import *"
   ]
  },
  {
   "cell_type": "code",
   "execution_count": 2,
   "metadata": {},
   "outputs": [],
   "source": [
    "with open('cols_for_create_tables.pkl', 'rb') as f:\n",
    "    cols = pickle.load(f)\n",
    "    cols['index_daily_price'] = cols['stock_daily_price']"
   ]
  },
  {
   "cell_type": "code",
   "execution_count": 3,
   "metadata": {},
   "outputs": [],
   "source": [
    "conn = sqlite3.connect(DB_PATH)\n",
    "cursor = conn.cursor()"
   ]
  },
  {
   "cell_type": "markdown",
   "metadata": {},
   "source": [
    "# 建表"
   ]
  },
  {
   "cell_type": "code",
   "execution_count": 4,
   "metadata": {},
   "outputs": [],
   "source": [
    "for table in ['stock_info', 'index_info']:\n",
    "    sql_exp1 = f\"\"\"\n",
    "    CREATE TABLE {table} (\n",
    "    \"\"\"\n",
    "    sql_exp2 = \"\"\",\n",
    "        INSERT_TIME DEFAULT CURRENT_TIMESTAMP,\n",
    "        PRIMARY KEY (ts_code)\n",
    "        );\n",
    "    \"\"\"\n",
    "    sql_exp = sql_exp1+ ',\\n'.join(cols[table]) + sql_exp2\n",
    "\n",
    "    cursor.execute(sql_exp)\n",
    "\n",
    "for table in ['stock_daily_price', 'stock_daily_basic', 'index_daily_price']:\n",
    "    sql_exp1 = f\"\"\"\n",
    "    CREATE TABLE {table} (\n",
    "    \"\"\"\n",
    "    sql_exp2 = \"\"\",\n",
    "        INSERT_TIME DEFAULT CURRENT_TIMESTAMP,\n",
    "        PRIMARY KEY (ts_code, trade_date),\n",
    "        FOREIGN KEY (ts_code) REFERENCES stock_info(ts_code)\n",
    "        );\n",
    "    \"\"\"\n",
    "    sql_exp = sql_exp1+ ',\\n'.join(cols[table]) + sql_exp2\n",
    "\n",
    "    cursor.execute(sql_exp)\n",
    "\n",
    "for table in ['income', 'balancesheet', 'cashflow']:\n",
    "    sql_exp1 = f\"\"\"\n",
    "    CREATE TABLE {table} (\n",
    "    \"\"\"\n",
    "    sql_exp2 = \"\"\",\n",
    "        INSERT_TIME DEFAULT CURRENT_TIMESTAMP,\n",
    "        PRIMARY KEY (ts_code, ann_date, f_ann_date, end_date, report_type, comp_type, end_type, update_flag),\n",
    "        FOREIGN KEY (ts_code) REFERENCES stock_info(ts_code)\n",
    "        );\n",
    "    \"\"\"\n",
    "    sql_exp = sql_exp1+ ',\\n'.join(cols[table]) + sql_exp2\n",
    "\n",
    "    cursor.execute(sql_exp)\n",
    "\n",
    "table = 'trade_cal'\n",
    "if table:\n",
    "    cursor.execute('''\n",
    "    CREATE TABLE trade_cal (\n",
    "        exchange,\n",
    "        cal_date,\n",
    "        is_open,\n",
    "        pretrade_date,\n",
    "        INSERT_TIME DEFAULT CURRENT_TIMESTAMP,\n",
    "        PRIMARY KEY (exchange, cal_date)\n",
    "    );\n",
    "    ''')\n",
    "\n",
    "table = 'index_component'\n",
    "if table:\n",
    "    sql_exp1 = f\"\"\"\n",
    "    CREATE TABLE {table} (\n",
    "    \"\"\"\n",
    "    sql_exp2 = \"\"\",\n",
    "        INSERT_TIME DEFAULT CURRENT_TIMESTAMP,\n",
    "        PRIMARY KEY (index_code, con_code, trade_date),\n",
    "        FOREIGN KEY (index_code) REFERENCES index_info(ts_code),\n",
    "        FOREIGN KEY (con_code) REFERENCES stock_info(ts_code)\n",
    "        );\n",
    "    \"\"\"\n",
    "    sql_exp = sql_exp1+ ',\\n'.join(cols[table]) + sql_exp2\n",
    "\n",
    "    cursor.execute(sql_exp)"
   ]
  },
  {
   "cell_type": "markdown",
   "metadata": {},
   "source": [
    "# 获取数据"
   ]
  },
  {
   "cell_type": "code",
   "execution_count": 5,
   "metadata": {},
   "outputs": [],
   "source": [
    "if 'stock_info':\n",
    "    df1 = pro.stock_basic(exchange='', list_status='L', fields=cols['stock_info'])\n",
    "    df2 = pro.stock_basic(exchange='', list_status='D', fields=cols['stock_info'])\n",
    "    df3 = pro.stock_basic(exchange='', list_status='P', fields=cols['stock_info'])\n",
    "    df = pd.concat([df1, df2, df3], axis=0)\n",
    "    df.to_sql('stock_info', conn, if_exists='append', index=False)\n",
    "    all_codes = df['ts_code'].unique().tolist()"
   ]
  },
  {
   "cell_type": "code",
   "execution_count": 6,
   "metadata": {},
   "outputs": [
    {
     "data": {
      "text/plain": [
       "5609"
      ]
     },
     "execution_count": 6,
     "metadata": {},
     "output_type": "execute_result"
    }
   ],
   "source": [
    "query = f'select distinct ts_code from stock_info'\n",
    "all_codes = pd.read_sql_query(query, conn)['ts_code'].tolist()\n",
    "len(all_codes)"
   ]
  },
  {
   "cell_type": "code",
   "execution_count": 7,
   "metadata": {},
   "outputs": [],
   "source": [
    "if 'index_info':\n",
    "    dfs = []\n",
    "    for market in ['CSI', 'SSE', 'SZSE', 'CICC', 'SW', 'OTH']:\n",
    "        df = pro.index_basic(market=market, fields=cols['index_info'])\n",
    "        dfs.append(df)\n",
    "    df = pd.concat(dfs, axis=0)\n",
    "    df.to_sql('index_info', conn, if_exists='append', index=False)"
   ]
  },
  {
   "cell_type": "code",
   "execution_count": 4,
   "metadata": {},
   "outputs": [],
   "source": [
    "if 'trade_cal':\n",
    "    df1 = pro.trade_cal(exchange='SSE')\n",
    "    df2 = pro.trade_cal(exchange='SZSE')\n",
    "    df = pd.concat([df1, df2], axis=0)\n",
    "    df.to_sql('trade_cal', conn, if_exists='append', index=False)"
   ]
  },
  {
   "cell_type": "code",
   "execution_count": null,
   "metadata": {},
   "outputs": [],
   "source": [
    "if 'stock_daily_price':\n",
    "    dfs = []\n",
    "    for code in tqdm(all_codes):\n",
    "        df = ts.pro_bar(ts_code=code, adj='qfq', start_date='20000101')\n",
    "        if isinstance(df, pd.DataFrame):\n",
    "            dfs.append(df)\n",
    "    df = pd.concat(dfs, axis=0)\n",
    "    df.to_sql('stock_daily_price', conn, if_exists='append', index=False)"
   ]
  },
  {
   "cell_type": "code",
   "execution_count": null,
   "metadata": {},
   "outputs": [],
   "source": [
    "if 'stock_daily_basic':\n",
    "    dfs = []\n",
    "    for code in tqdm(all_codes):\n",
    "        df = pro.daily_basic(ts_code=code, fields=cols['stock_daily_basic'], start_date='20000101')\n",
    "        if isinstance(df, pd.DataFrame):\n",
    "            dfs.append(df)\n",
    "    df = pd.concat(dfs, axis=0)\n",
    "    df.to_sql('stock_daily_basic', conn, if_exists='append', index=False)"
   ]
  },
  {
   "cell_type": "code",
   "execution_count": null,
   "metadata": {},
   "outputs": [],
   "source": [
    "if 'income':\n",
    "    dfs = []\n",
    "    for code in tqdm(all_codes):\n",
    "        time1 = time.time()\n",
    "        df = pro.income(ts_code=code, fields=cols['income'])\n",
    "        if isinstance(df, pd.DataFrame):\n",
    "            dfs.append(df)\n",
    "        time2 = time.time()\n",
    "        iter_rate_limiter(max_iter_per_min=500, actual_iter_time=time2-time1)\n",
    "    df = pd.concat(dfs, axis=0)\n",
    "    df.to_sql('income', conn, if_exists='append', index=False)"
   ]
  },
  {
   "cell_type": "code",
   "execution_count": null,
   "metadata": {},
   "outputs": [],
   "source": [
    "if 'balancesheet':\n",
    "    dfs = []\n",
    "    for code in tqdm(all_codes):\n",
    "        time1 = time.time()\n",
    "        df = pro.balancesheet(ts_code=code, fields=cols['balancesheet'])\n",
    "        if isinstance(df, pd.DataFrame):\n",
    "            dfs.append(df)\n",
    "        time2 = time.time()\n",
    "        iter_rate_limiter(max_iter_per_min=500, actual_iter_time=time2-time1)\n",
    "    df = pd.concat(dfs, axis=0)\n",
    "    df.to_sql('balancesheet', conn, if_exists='append', index=False)"
   ]
  },
  {
   "cell_type": "code",
   "execution_count": null,
   "metadata": {},
   "outputs": [],
   "source": [
    "if 'cashflow':\n",
    "    dfs = []\n",
    "    for code in tqdm(all_codes):\n",
    "        time1 = time.time()\n",
    "        df = pro.cashflow(ts_code=code, fields=cols['cashflow'])\n",
    "        if isinstance(df, pd.DataFrame):\n",
    "            dfs.append(df)\n",
    "        time2 = time.time()\n",
    "        iter_rate_limiter(max_iter_per_min=500, actual_iter_time=time2-time1)\n",
    "    df = pd.concat(dfs, axis=0)\n",
    "    df.to_sql('cashflow', conn, if_exists='append', index=False)"
   ]
  }
 ],
 "metadata": {
  "kernelspec": {
   "display_name": "base",
   "language": "python",
   "name": "python3"
  },
  "language_info": {
   "codemirror_mode": {
    "name": "ipython",
    "version": 3
   },
   "file_extension": ".py",
   "mimetype": "text/x-python",
   "name": "python",
   "nbconvert_exporter": "python",
   "pygments_lexer": "ipython3",
   "version": "3.12.3"
  }
 },
 "nbformat": 4,
 "nbformat_minor": 2
}
